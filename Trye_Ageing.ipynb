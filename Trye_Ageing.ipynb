{
  "nbformat": 4,
  "nbformat_minor": 0,
  "metadata": {
    "colab": {
      "provenance": [],
      "authorship_tag": "ABX9TyMjNHHChhm34K4aT6B8iZYi",
      "include_colab_link": true
    },
    "kernelspec": {
      "name": "python3",
      "display_name": "Python 3"
    },
    "language_info": {
      "name": "python"
    }
  },
  "cells": [
    {
      "cell_type": "markdown",
      "metadata": {
        "id": "view-in-github",
        "colab_type": "text"
      },
      "source": [
        "<a href=\"https://colab.research.google.com/github/mushir2004/train-and-test/blob/main/Trye_Ageing.ipynb\" target=\"_parent\"><img src=\"https://colab.research.google.com/assets/colab-badge.svg\" alt=\"Open In Colab\"/></a>"
      ]
    },
    {
      "cell_type": "code",
      "source": [
        "pip install pandas scikit-learn openpyxl\n"
      ],
      "metadata": {
        "colab": {
          "base_uri": "https://localhost:8080/"
        },
        "id": "TjQxrUWK4EbE",
        "outputId": "13c56bcf-b46c-4cbc-ede9-76191688f8ee"
      },
      "execution_count": 10,
      "outputs": [
        {
          "output_type": "stream",
          "name": "stdout",
          "text": [
            "Requirement already satisfied: pandas in /usr/local/lib/python3.10/dist-packages (2.1.4)\n",
            "Requirement already satisfied: scikit-learn in /usr/local/lib/python3.10/dist-packages (1.3.2)\n",
            "Requirement already satisfied: openpyxl in /usr/local/lib/python3.10/dist-packages (3.1.5)\n",
            "Requirement already satisfied: numpy<2,>=1.22.4 in /usr/local/lib/python3.10/dist-packages (from pandas) (1.26.4)\n",
            "Requirement already satisfied: python-dateutil>=2.8.2 in /usr/local/lib/python3.10/dist-packages (from pandas) (2.8.2)\n",
            "Requirement already satisfied: pytz>=2020.1 in /usr/local/lib/python3.10/dist-packages (from pandas) (2024.2)\n",
            "Requirement already satisfied: tzdata>=2022.1 in /usr/local/lib/python3.10/dist-packages (from pandas) (2024.1)\n",
            "Requirement already satisfied: scipy>=1.5.0 in /usr/local/lib/python3.10/dist-packages (from scikit-learn) (1.13.1)\n",
            "Requirement already satisfied: joblib>=1.1.1 in /usr/local/lib/python3.10/dist-packages (from scikit-learn) (1.4.2)\n",
            "Requirement already satisfied: threadpoolctl>=2.0.0 in /usr/local/lib/python3.10/dist-packages (from scikit-learn) (3.5.0)\n",
            "Requirement already satisfied: et-xmlfile in /usr/local/lib/python3.10/dist-packages (from openpyxl) (1.1.0)\n",
            "Requirement already satisfied: six>=1.5 in /usr/local/lib/python3.10/dist-packages (from python-dateutil>=2.8.2->pandas) (1.16.0)\n"
          ]
        }
      ]
    },
    {
      "cell_type": "code",
      "source": [
        "import pandas as pd\n",
        "\n",
        "# Load the Excel file\n",
        "file_path = '/content/AGING TYRE RFID_2.xlsx'\n",
        "data = pd.read_excel(file_path, engine='openpyxl')\n",
        "\n",
        "# Display the first few rows of the dataset\n",
        "print(data.head())\n"
      ],
      "metadata": {
        "colab": {
          "base_uri": "https://localhost:8080/"
        },
        "id": "QPxBrn1f4HWl",
        "outputId": "9ff996f9-8e2b-49c6-d6c3-e25582fc77d2"
      },
      "execution_count": 11,
      "outputs": [
        {
          "output_type": "stream",
          "name": "stdout",
          "text": [
            "            Tire Size: Unnamed: 1 Unnamed: 2 Unnamed: 3 Unnamed: 4 Unnamed: 5  \\\n",
            "0                  NaN        NaN        NaN       Temp      Dist.       Rad.   \n",
            "1                 Date       Time       Step       (ºC)       (km)       (cm)   \n",
            "2  2022-03-07 00:00:00   13:09:01          1       30.1          0       49.9   \n",
            "3  2022-03-07 00:00:00   13:10:01          1         29          0       49.9   \n",
            "4  2022-03-07 00:00:00   13:11:01          1       29.1          0       49.9   \n",
            "\n",
            "  Unnamed: 6 Unnamed: 7 Unnamed: 8 Unnamed: 9  ...                Unnamed: 18  \\\n",
            "0        Spd   Req. Ld.    Act. Ld  Req. Inf.  ...                        NaN   \n",
            "1      (kph)       (kg)       (kg)      (psi)  ...               Explanations   \n",
            "2          0       2343    2337.05          0  ...  Resuming or Starting Step   \n",
            "3         72       2343    2343.24          0  ...                        NaN   \n",
            "4         72       2343    2342.71          0  ...                        NaN   \n",
            "\n",
            "  Unnamed: 19 Unnamed: 20 Unnamed: 21 Unnamed: 22 Unnamed: 23 Unnamed: 24  \\\n",
            "0         NaN         NaN         NaN         NaN         NaN         NaN   \n",
            "1         NaN         NaN         NaN         NaN         NaN         NaN   \n",
            "2         NaN         NaN         NaN         NaN         NaN         NaN   \n",
            "3         NaN         NaN         NaN         NaN         NaN         NaN   \n",
            "4         NaN         NaN         NaN         NaN         NaN         NaN   \n",
            "\n",
            "  Unnamed: 25 Unnamed: 26  Unnamed: 27  \n",
            "0         NaN         NaN          NaN  \n",
            "1         NaN         NaN          NaN  \n",
            "2         NaN         NaN          NaN  \n",
            "3         NaN         NaN          NaN  \n",
            "4         NaN         NaN          NaN  \n",
            "\n",
            "[5 rows x 28 columns]\n"
          ]
        }
      ]
    },
    {
      "cell_type": "code",
      "source": [
        "# Fill missing values with a placeholder\n",
        "data['Unnamed: 5'] = data['Unnamed: 5'].fillna('Unnamed: 5')\n"
      ],
      "metadata": {
        "id": "_F0HF8P65C81"
      },
      "execution_count": 17,
      "outputs": []
    },
    {
      "cell_type": "code",
      "source": [
        "# Convert all values in the 'Target' column to strings\n",
        "data['Unnamed: 5'] = data['Unnamed: 5'].astype(str)\n"
      ],
      "metadata": {
        "id": "Bw1VEQdU5Sbv"
      },
      "execution_count": 18,
      "outputs": []
    },
    {
      "cell_type": "code",
      "source": [
        "# Check the data types in the column\n",
        "print(data['Unnamed: 5'].unique())\n"
      ],
      "metadata": {
        "colab": {
          "base_uri": "https://localhost:8080/"
        },
        "id": "aeH_VTVD5ahv",
        "outputId": "57d5e494-3f57-445a-8a94-01f987788aa9"
      },
      "execution_count": 19,
      "outputs": [
        {
          "output_type": "stream",
          "name": "stdout",
          "text": [
            "['Rad.' '(cm)' '49.9' '50' '50.1' '50.2' '49.6' '49.7' '49.2' '49' '48.7'\n",
            " '48.8' '48.5' '48.6' '48.3' '46.2' '44.7' '43.2' '41.8' '40.5' '40']\n"
          ]
        }
      ]
    },
    {
      "cell_type": "code",
      "source": [
        "from sklearn.model_selection import train_test_split\n",
        "from sklearn.preprocessing import LabelEncoder\n",
        "\n",
        "# Example: Encode categorical variables if any\n",
        "label_encoder = LabelEncoder()\n",
        "\n",
        "# Assuming 'Target' is the column you want to predict\n",
        "data['Unnamed: 5'] = label_encoder.fit_transform(data['Unnamed: 5'])\n",
        "\n",
        "# Separate features and target variable\n",
        "X = data.drop(columns=['Unnamed: 4'])  # Features\n",
        "y = data['Unnamed: 5']  # Target variable\n",
        "\n",
        "# Split the data into training and testing sets (80% training, 20% testing)\n",
        "X_train, X_test, y_train, y_test = train_test_split(X, y, test_size=0.2, random_state=42)\n"
      ],
      "metadata": {
        "id": "jF5UOx-w4QjU"
      },
      "execution_count": 20,
      "outputs": []
    },
    {
      "cell_type": "code",
      "source": [
        "# Convert the 'Unnamed: 1' column to datetime format\n",
        "X_train['Unnamed: 1'] = pd.to_datetime(X_train['Unnamed: 1'], errors='coerce')\n",
        "\n",
        "# Now you can extract day, month, year, etc.\n",
        "X_train['Day'] = X_train['Unnamed: 1'].dt.day\n",
        "X_train['Month'] = X_train['Unnamed: 1'].dt.month\n",
        "X_train['Year'] = X_train['Unnamed: 1'].dt.year\n",
        "\n",
        "# Drop the original datetime column if it's no longer needed\n",
        "X_train = X_train.drop(columns=['Unnamed: 1'])\n"
      ],
      "metadata": {
        "id": "DSyTKMEi6_8p"
      },
      "execution_count": 26,
      "outputs": []
    },
    {
      "cell_type": "code",
      "source": [
        "# Check for non-numeric columns\n",
        "print(X_train.dtypes)\n",
        "\n",
        "# If there are any non-numeric columns, handle them accordingly (either drop or encode)\n"
      ],
      "metadata": {
        "colab": {
          "base_uri": "https://localhost:8080/"
        },
        "id": "sE7dsMtT7B8M",
        "outputId": "edd16404-6f69-41f2-8995-a97f6ad509bb"
      },
      "execution_count": 28,
      "outputs": [
        {
          "output_type": "stream",
          "name": "stdout",
          "text": [
            "Tire Size:      object\n",
            "Unnamed: 2      object\n",
            "Unnamed: 3      object\n",
            "Unnamed: 5       int64\n",
            "Unnamed: 6      object\n",
            "Unnamed: 7      object\n",
            "Unnamed: 8      object\n",
            "Unnamed: 9      object\n",
            "Unnamed: 10     object\n",
            "Unnamed: 11     object\n",
            "Unnamed: 12     object\n",
            "Unnamed: 13     object\n",
            "Unnamed: 14     object\n",
            "Unnamed: 15     object\n",
            "Unnamed: 16     object\n",
            "Unnamed: 17     object\n",
            "Unnamed: 18     object\n",
            "Unnamed: 19    float64\n",
            "Unnamed: 20    float64\n",
            "Unnamed: 21    float64\n",
            "Unnamed: 22    float64\n",
            "Unnamed: 23    float64\n",
            "Unnamed: 24    float64\n",
            "Unnamed: 25    float64\n",
            "Unnamed: 26    float64\n",
            "Unnamed: 27    float64\n",
            "Day            float64\n",
            "Month          float64\n",
            "Year           float64\n",
            "dtype: object\n"
          ]
        }
      ]
    },
    {
      "cell_type": "code",
      "source": [
        "# Check the data types of all columns in X_train\n",
        "print(X_train.dtypes)\n",
        "\n",
        "# Check for non-numeric columns\n",
        "non_numeric_columns = X_train.select_dtypes(exclude=['int', 'float']).columns\n",
        "print(\"Non-numeric columns: \", non_numeric_columns)\n"
      ],
      "metadata": {
        "colab": {
          "base_uri": "https://localhost:8080/"
        },
        "id": "FSg7XRZi7ajm",
        "outputId": "66f0b5a0-560c-4ecd-e8f0-83ec0b8533c6"
      },
      "execution_count": 30,
      "outputs": [
        {
          "output_type": "stream",
          "name": "stdout",
          "text": [
            "Tire Size:      object\n",
            "Unnamed: 2      object\n",
            "Unnamed: 3      object\n",
            "Unnamed: 5       int64\n",
            "Unnamed: 6      object\n",
            "Unnamed: 7      object\n",
            "Unnamed: 8      object\n",
            "Unnamed: 9      object\n",
            "Unnamed: 10     object\n",
            "Unnamed: 11     object\n",
            "Unnamed: 12     object\n",
            "Unnamed: 13     object\n",
            "Unnamed: 14     object\n",
            "Unnamed: 15     object\n",
            "Unnamed: 16     object\n",
            "Unnamed: 17     object\n",
            "Unnamed: 18     object\n",
            "Unnamed: 19    float64\n",
            "Unnamed: 20    float64\n",
            "Unnamed: 21    float64\n",
            "Unnamed: 22    float64\n",
            "Unnamed: 23    float64\n",
            "Unnamed: 24    float64\n",
            "Unnamed: 25    float64\n",
            "Unnamed: 26    float64\n",
            "Unnamed: 27    float64\n",
            "Day            float64\n",
            "Month          float64\n",
            "Year           float64\n",
            "dtype: object\n",
            "Non-numeric columns:  Index(['Tire Size:', 'Unnamed: 2', 'Unnamed: 3', 'Unnamed: 6', 'Unnamed: 7',\n",
            "       'Unnamed: 8', 'Unnamed: 9', 'Unnamed: 10', 'Unnamed: 11', 'Unnamed: 12',\n",
            "       'Unnamed: 13', 'Unnamed: 14', 'Unnamed: 15', 'Unnamed: 16',\n",
            "       'Unnamed: 17', 'Unnamed: 18'],\n",
            "      dtype='object')\n"
          ]
        }
      ]
    },
    {
      "cell_type": "code",
      "source": [
        "# Use one-hot encoding to convert categorical columns into numeric\n",
        "X_train = pd.get_dummies(X_train, drop_first=True)\n",
        "X_test = pd.get_dummies(X_test, drop_first=True)\n"
      ],
      "metadata": {
        "id": "8yhX2MaS7cG_"
      },
      "execution_count": 31,
      "outputs": []
    },
    {
      "cell_type": "code",
      "source": [
        "model.fit(X_train, y_train)\n"
      ],
      "metadata": {
        "colab": {
          "base_uri": "https://localhost:8080/",
          "height": 74
        },
        "id": "peMBxTsI7pqK",
        "outputId": "c6dca70c-7c45-4d05-a7ec-b1e520457a2d"
      },
      "execution_count": 34,
      "outputs": [
        {
          "output_type": "execute_result",
          "data": {
            "text/plain": [
              "DecisionTreeClassifier()"
            ],
            "text/html": [
              "<style>#sk-container-id-1 {color: black;}#sk-container-id-1 pre{padding: 0;}#sk-container-id-1 div.sk-toggleable {background-color: white;}#sk-container-id-1 label.sk-toggleable__label {cursor: pointer;display: block;width: 100%;margin-bottom: 0;padding: 0.3em;box-sizing: border-box;text-align: center;}#sk-container-id-1 label.sk-toggleable__label-arrow:before {content: \"▸\";float: left;margin-right: 0.25em;color: #696969;}#sk-container-id-1 label.sk-toggleable__label-arrow:hover:before {color: black;}#sk-container-id-1 div.sk-estimator:hover label.sk-toggleable__label-arrow:before {color: black;}#sk-container-id-1 div.sk-toggleable__content {max-height: 0;max-width: 0;overflow: hidden;text-align: left;background-color: #f0f8ff;}#sk-container-id-1 div.sk-toggleable__content pre {margin: 0.2em;color: black;border-radius: 0.25em;background-color: #f0f8ff;}#sk-container-id-1 input.sk-toggleable__control:checked~div.sk-toggleable__content {max-height: 200px;max-width: 100%;overflow: auto;}#sk-container-id-1 input.sk-toggleable__control:checked~label.sk-toggleable__label-arrow:before {content: \"▾\";}#sk-container-id-1 div.sk-estimator input.sk-toggleable__control:checked~label.sk-toggleable__label {background-color: #d4ebff;}#sk-container-id-1 div.sk-label input.sk-toggleable__control:checked~label.sk-toggleable__label {background-color: #d4ebff;}#sk-container-id-1 input.sk-hidden--visually {border: 0;clip: rect(1px 1px 1px 1px);clip: rect(1px, 1px, 1px, 1px);height: 1px;margin: -1px;overflow: hidden;padding: 0;position: absolute;width: 1px;}#sk-container-id-1 div.sk-estimator {font-family: monospace;background-color: #f0f8ff;border: 1px dotted black;border-radius: 0.25em;box-sizing: border-box;margin-bottom: 0.5em;}#sk-container-id-1 div.sk-estimator:hover {background-color: #d4ebff;}#sk-container-id-1 div.sk-parallel-item::after {content: \"\";width: 100%;border-bottom: 1px solid gray;flex-grow: 1;}#sk-container-id-1 div.sk-label:hover label.sk-toggleable__label {background-color: #d4ebff;}#sk-container-id-1 div.sk-serial::before {content: \"\";position: absolute;border-left: 1px solid gray;box-sizing: border-box;top: 0;bottom: 0;left: 50%;z-index: 0;}#sk-container-id-1 div.sk-serial {display: flex;flex-direction: column;align-items: center;background-color: white;padding-right: 0.2em;padding-left: 0.2em;position: relative;}#sk-container-id-1 div.sk-item {position: relative;z-index: 1;}#sk-container-id-1 div.sk-parallel {display: flex;align-items: stretch;justify-content: center;background-color: white;position: relative;}#sk-container-id-1 div.sk-item::before, #sk-container-id-1 div.sk-parallel-item::before {content: \"\";position: absolute;border-left: 1px solid gray;box-sizing: border-box;top: 0;bottom: 0;left: 50%;z-index: -1;}#sk-container-id-1 div.sk-parallel-item {display: flex;flex-direction: column;z-index: 1;position: relative;background-color: white;}#sk-container-id-1 div.sk-parallel-item:first-child::after {align-self: flex-end;width: 50%;}#sk-container-id-1 div.sk-parallel-item:last-child::after {align-self: flex-start;width: 50%;}#sk-container-id-1 div.sk-parallel-item:only-child::after {width: 0;}#sk-container-id-1 div.sk-dashed-wrapped {border: 1px dashed gray;margin: 0 0.4em 0.5em 0.4em;box-sizing: border-box;padding-bottom: 0.4em;background-color: white;}#sk-container-id-1 div.sk-label label {font-family: monospace;font-weight: bold;display: inline-block;line-height: 1.2em;}#sk-container-id-1 div.sk-label-container {text-align: center;}#sk-container-id-1 div.sk-container {/* jupyter's `normalize.less` sets `[hidden] { display: none; }` but bootstrap.min.css set `[hidden] { display: none !important; }` so we also need the `!important` here to be able to override the default hidden behavior on the sphinx rendered scikit-learn.org. See: https://github.com/scikit-learn/scikit-learn/issues/21755 */display: inline-block !important;position: relative;}#sk-container-id-1 div.sk-text-repr-fallback {display: none;}</style><div id=\"sk-container-id-1\" class=\"sk-top-container\"><div class=\"sk-text-repr-fallback\"><pre>DecisionTreeClassifier()</pre><b>In a Jupyter environment, please rerun this cell to show the HTML representation or trust the notebook. <br />On GitHub, the HTML representation is unable to render, please try loading this page with nbviewer.org.</b></div><div class=\"sk-container\" hidden><div class=\"sk-item\"><div class=\"sk-estimator sk-toggleable\"><input class=\"sk-toggleable__control sk-hidden--visually\" id=\"sk-estimator-id-1\" type=\"checkbox\" checked><label for=\"sk-estimator-id-1\" class=\"sk-toggleable__label sk-toggleable__label-arrow\">DecisionTreeClassifier</label><div class=\"sk-toggleable__content\"><pre>DecisionTreeClassifier()</pre></div></div></div></div></div>"
            ]
          },
          "metadata": {},
          "execution_count": 34
        }
      ]
    },
    {
      "cell_type": "code",
      "source": [
        "# Combine train and test to ensure consistent one-hot encoding\n",
        "combined = pd.concat([X_train, X_test], keys=['train', 'test'])\n",
        "\n",
        "# One-hot encode the combined data\n",
        "combined_encoded = pd.get_dummies(combined, drop_first=True)\n",
        "\n",
        "# Split the combined data back into X_train and X_test\n",
        "X_train = combined_encoded.xs('train')\n",
        "X_test = combined_encoded.xs('test')\n"
      ],
      "metadata": {
        "id": "EsBB9VM574lB"
      },
      "execution_count": 36,
      "outputs": []
    },
    {
      "cell_type": "code",
      "source": [
        "# Align columns in X_test to match X_train\n",
        "X_test = X_test.reindex(columns=X_train.columns, fill_value=0)\n"
      ],
      "metadata": {
        "id": "wB4CLk4876Rl"
      },
      "execution_count": 37,
      "outputs": []
    },
    {
      "cell_type": "code",
      "source": [
        "# Fit the model\n",
        "model.fit(X_train, y_train)\n",
        "\n",
        "# Make predictions\n",
        "y_pred = model.predict(X_test)\n"
      ],
      "metadata": {
        "id": "C4phlI5P7-pz"
      },
      "execution_count": 38,
      "outputs": []
    },
    {
      "cell_type": "code",
      "source": [
        "from sklearn.tree import DecisionTreeClassifier\n",
        "from sklearn.metrics import accuracy_score\n",
        "\n",
        "# Initialize the classifier\n",
        "model = DecisionTreeClassifier()\n",
        "\n",
        "# Train the model\n",
        "model.fit(X_train, y_train)\n",
        "\n",
        "# Make predictions\n",
        "y_pred = model.predict(X_test)\n",
        "\n",
        "# Evaluate the model\n",
        "accuracy = accuracy_score(y_test, y_pred)\n",
        "print(f'Accuracy: {accuracy * 100:.2f}%')\n"
      ],
      "metadata": {
        "colab": {
          "base_uri": "https://localhost:8080/"
        },
        "id": "qMNiyDgY5hnn",
        "outputId": "369177a6-12c1-4a51-f581-79256e4dfe19"
      },
      "execution_count": 39,
      "outputs": [
        {
          "output_type": "stream",
          "name": "stdout",
          "text": [
            "Accuracy: 41.99%\n"
          ]
        }
      ]
    }
  ]
}